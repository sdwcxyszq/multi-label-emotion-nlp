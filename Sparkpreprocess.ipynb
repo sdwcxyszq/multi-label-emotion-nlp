{
 "cells": [
  {
   "cell_type": "code",
   "execution_count": 16,
   "id": "bc69b0da-1246-4a15-af94-ccd326c0edee",
   "metadata": {
    "execution": {
     "iopub.execute_input": "2023-03-01T01:41:25.721184Z",
     "iopub.status.busy": "2023-03-01T01:41:25.720853Z",
     "iopub.status.idle": "2023-03-01T01:41:26.034434Z",
     "shell.execute_reply": "2023-03-01T01:41:26.033050Z",
     "shell.execute_reply.started": "2023-03-01T01:41:25.721156Z"
    },
    "tags": []
   },
   "outputs": [
    {
     "data": {
      "application/vnd.jupyter.widget-view+json": {
       "model_id": "ad852ae265e94811be1564921d7d518c",
       "version_major": 2,
       "version_minor": 0
      },
      "text/plain": [
       "VBox()"
      ]
     },
     "metadata": {},
     "output_type": "display_data"
    },
    {
     "data": {
      "application/vnd.jupyter.widget-view+json": {
       "model_id": "",
       "version_major": 2,
       "version_minor": 0
      },
      "text/plain": [
       "FloatProgress(value=0.0, bar_style='info', description='Progress:', layout=Layout(height='25px', width='50%'),…"
      ]
     },
     "metadata": {},
     "output_type": "display_data"
    }
   ],
   "source": [
    "from pyspark import SparkContext"
   ]
  },
  {
   "cell_type": "code",
   "execution_count": 23,
   "id": "126272e5-2258-4996-9c73-e85ced20bda6",
   "metadata": {
    "execution": {
     "iopub.execute_input": "2023-03-01T02:01:11.493131Z",
     "iopub.status.busy": "2023-03-01T02:01:11.492782Z",
     "iopub.status.idle": "2023-03-01T02:01:11.822493Z",
     "shell.execute_reply": "2023-03-01T02:01:11.821246Z",
     "shell.execute_reply.started": "2023-03-01T02:01:11.493102Z"
    },
    "tags": []
   },
   "outputs": [
    {
     "data": {
      "application/vnd.jupyter.widget-view+json": {
       "model_id": "fb0696b869bc41e984feb6dd5ffd4773",
       "version_major": 2,
       "version_minor": 0
      },
      "text/plain": [
       "VBox()"
      ]
     },
     "metadata": {},
     "output_type": "display_data"
    },
    {
     "data": {
      "application/vnd.jupyter.widget-view+json": {
       "model_id": "",
       "version_major": 2,
       "version_minor": 0
      },
      "text/plain": [
       "FloatProgress(value=0.0, bar_style='info', description='Progress:', layout=Layout(height='25px', width='50%'),…"
      ]
     },
     "metadata": {},
     "output_type": "display_data"
    }
   ],
   "source": [
    "emotions=sc.textFile(\"s3://ziqiproject/input/*.csv\")"
   ]
  },
  {
   "cell_type": "code",
   "execution_count": 100,
   "id": "bc617307-039c-4ab8-bb13-7a045004139d",
   "metadata": {
    "execution": {
     "iopub.execute_input": "2023-03-01T03:30:53.918518Z",
     "iopub.status.busy": "2023-03-01T03:30:53.918079Z",
     "iopub.status.idle": "2023-03-01T03:30:54.430766Z",
     "shell.execute_reply": "2023-03-01T03:30:54.429788Z",
     "shell.execute_reply.started": "2023-03-01T03:30:53.918468Z"
    },
    "tags": []
   },
   "outputs": [
    {
     "data": {
      "application/vnd.jupyter.widget-view+json": {
       "model_id": "081cf2ee7f7043de86f4cc1ad417604b",
       "version_major": 2,
       "version_minor": 0
      },
      "text/plain": [
       "VBox()"
      ]
     },
     "metadata": {},
     "output_type": "display_data"
    },
    {
     "data": {
      "application/vnd.jupyter.widget-view+json": {
       "model_id": "",
       "version_major": 2,
       "version_minor": 0
      },
      "text/plain": [
       "FloatProgress(value=0.0, bar_style='info', description='Progress:', layout=Layout(height='25px', width='50%'),…"
      ]
     },
     "metadata": {},
     "output_type": "display_data"
    }
   ],
   "source": [
    "def solve_comma(s):\n",
    "    \"\"\"We have two situation, if there is \" in the beginning, we need to find the last \" to make sure that is the text, otherwise just use comma to split\"\"\"\n",
    "    if s[0]=='\"':\n",
    "        return (s[:s.rindex('\"')],s[(s.rindex('\"')+2):].split(','))\n",
    "    words = s.split(',')\n",
    "    return (words[0],words[1:])\n",
    "emotion_1 = emotions.map(lambda s:solve_comma(s))"
   ]
  },
  {
   "cell_type": "code",
   "execution_count": 106,
   "id": "bf6be333-adb3-4887-b7c9-a621015e0ff7",
   "metadata": {
    "execution": {
     "iopub.execute_input": "2023-03-01T03:32:37.131310Z",
     "iopub.status.busy": "2023-03-01T03:32:37.130922Z",
     "iopub.status.idle": "2023-03-01T03:32:37.446925Z",
     "shell.execute_reply": "2023-03-01T03:32:37.445848Z",
     "shell.execute_reply.started": "2023-03-01T03:32:37.131269Z"
    },
    "tags": []
   },
   "outputs": [
    {
     "data": {
      "application/vnd.jupyter.widget-view+json": {
       "model_id": "6a96a96907d043a79d55b887ff54f034",
       "version_major": 2,
       "version_minor": 0
      },
      "text/plain": [
       "VBox()"
      ]
     },
     "metadata": {},
     "output_type": "display_data"
    },
    {
     "data": {
      "application/vnd.jupyter.widget-view+json": {
       "model_id": "",
       "version_major": 2,
       "version_minor": 0
      },
      "text/plain": [
       "FloatProgress(value=0.0, bar_style='info', description='Progress:', layout=Layout(height='25px', width='50%'),…"
      ]
     },
     "metadata": {},
     "output_type": "display_data"
    }
   ],
   "source": [
    "#Eliminate the header and non-clear emotion example with no emotion\n",
    "emotion_2 = emotion_1.filter(lambda s:s[0]!='text' and s[1][7]=='False')"
   ]
  },
  {
   "cell_type": "code",
   "execution_count": 110,
   "id": "dbda909f-7de6-49d4-8c10-2be1c4997ce4",
   "metadata": {
    "execution": {
     "iopub.execute_input": "2023-03-01T03:35:36.928677Z",
     "iopub.status.busy": "2023-03-01T03:35:36.928324Z",
     "iopub.status.idle": "2023-03-01T03:35:37.230319Z",
     "shell.execute_reply": "2023-03-01T03:35:37.228798Z",
     "shell.execute_reply.started": "2023-03-01T03:35:36.928639Z"
    },
    "tags": []
   },
   "outputs": [
    {
     "data": {
      "application/vnd.jupyter.widget-view+json": {
       "model_id": "60369c333bc04e11a9e123822196404c",
       "version_major": 2,
       "version_minor": 0
      },
      "text/plain": [
       "VBox()"
      ]
     },
     "metadata": {},
     "output_type": "display_data"
    },
    {
     "data": {
      "application/vnd.jupyter.widget-view+json": {
       "model_id": "",
       "version_major": 2,
       "version_minor": 0
      },
      "text/plain": [
       "FloatProgress(value=0.0, bar_style='info', description='Progress:', layout=Layout(height='25px', width='50%'),…"
      ]
     },
     "metadata": {},
     "output_type": "display_data"
    }
   ],
   "source": [
    "#Eliminate useless columns, maintain text and corresponding emotion list\n",
    "emotion_3 = emotion_2.map(lambda s:(s[0],s[1][8:]))"
   ]
  },
  {
   "cell_type": "code",
   "execution_count": 115,
   "id": "8fedd69e-ebe7-4e51-9da2-81614f4d72d1",
   "metadata": {
    "execution": {
     "iopub.execute_input": "2023-03-01T03:38:12.856383Z",
     "iopub.status.busy": "2023-03-01T03:38:12.856069Z",
     "iopub.status.idle": "2023-03-01T03:38:13.299365Z",
     "shell.execute_reply": "2023-03-01T03:38:13.296122Z",
     "shell.execute_reply.started": "2023-03-01T03:38:12.856356Z"
    },
    "tags": []
   },
   "outputs": [
    {
     "data": {
      "application/vnd.jupyter.widget-view+json": {
       "model_id": "7e2c01e504f24e8899c26b67115fb566",
       "version_major": 2,
       "version_minor": 0
      },
      "text/plain": [
       "VBox()"
      ]
     },
     "metadata": {},
     "output_type": "display_data"
    },
    {
     "data": {
      "application/vnd.jupyter.widget-view+json": {
       "model_id": "",
       "version_major": 2,
       "version_minor": 0
      },
      "text/plain": [
       "FloatProgress(value=0.0, bar_style='info', description='Progress:', layout=Layout(height='25px', width='50%'),…"
      ]
     },
     "metadata": {},
     "output_type": "display_data"
    },
    {
     "name": "stdout",
     "output_type": "stream",
     "text": [
      "['admiration', 'amusement', 'anger', 'annoyance', 'approval', 'caring', 'confusion', 'curiosity', 'desire', 'disappointment', 'disapproval', 'disgust', 'embarrassment', 'excitement', 'fear', 'gratitude', 'grief', 'joy', 'love', 'nervousness', 'optimism', 'pride', 'realization', 'relief', 'remorse', 'sadness', 'surprise', 'neutral']"
     ]
    }
   ],
   "source": [
    "#Get the emotion list\n",
    "emotion_list = emotion_1.take(1)[0][1][8:]\n",
    "emotion_list"
   ]
  },
  {
   "cell_type": "code",
   "execution_count": 128,
   "id": "5f358d80-e718-46e1-aac8-32b7db3e2d14",
   "metadata": {
    "execution": {
     "iopub.execute_input": "2023-03-01T03:48:29.855138Z",
     "iopub.status.busy": "2023-03-01T03:48:29.854825Z",
     "iopub.status.idle": "2023-03-01T03:48:30.179545Z",
     "shell.execute_reply": "2023-03-01T03:48:30.176204Z",
     "shell.execute_reply.started": "2023-03-01T03:48:29.855110Z"
    },
    "tags": []
   },
   "outputs": [
    {
     "data": {
      "application/vnd.jupyter.widget-view+json": {
       "model_id": "28786442c984431f9f90a7d055022675",
       "version_major": 2,
       "version_minor": 0
      },
      "text/plain": [
       "VBox()"
      ]
     },
     "metadata": {},
     "output_type": "display_data"
    },
    {
     "data": {
      "application/vnd.jupyter.widget-view+json": {
       "model_id": "",
       "version_major": 2,
       "version_minor": 0
      },
      "text/plain": [
       "FloatProgress(value=0.0, bar_style='info', description='Progress:', layout=Layout(height='25px', width='50%'),…"
      ]
     },
     "metadata": {},
     "output_type": "display_data"
    }
   ],
   "source": [
    "def emotion_text(s):\n",
    "    \"\"\"Check which column has value of 1 and write the emotion name on the corresponding emotion list\"\"\"\n",
    "    string = ''\n",
    "    for i in range(len(s[1])):\n",
    "        if s[1][i]=='1':\n",
    "            string+=emotion_list[i]+','\n",
    "    if len(string)>0:\n",
    "        string = string[:len(string)-1]\n",
    "    return (s[0],string)\n",
    "emotion_4 = emotion_3.map(lambda s:emotion_text(s))"
   ]
  },
  {
   "cell_type": "code",
   "execution_count": 134,
   "id": "77a3d103-98ce-4fa9-8514-2cd6f61f7560",
   "metadata": {
    "execution": {
     "iopub.execute_input": "2023-03-01T03:51:03.119185Z",
     "iopub.status.busy": "2023-03-01T03:51:03.118554Z",
     "iopub.status.idle": "2023-03-01T03:51:03.462994Z",
     "shell.execute_reply": "2023-03-01T03:51:03.461851Z",
     "shell.execute_reply.started": "2023-03-01T03:51:03.119147Z"
    },
    "tags": []
   },
   "outputs": [
    {
     "data": {
      "application/vnd.jupyter.widget-view+json": {
       "model_id": "5381cc957fe94ba6b39891b7baa03242",
       "version_major": 2,
       "version_minor": 0
      },
      "text/plain": [
       "VBox()"
      ]
     },
     "metadata": {},
     "output_type": "display_data"
    },
    {
     "data": {
      "application/vnd.jupyter.widget-view+json": {
       "model_id": "",
       "version_major": 2,
       "version_minor": 0
      },
      "text/plain": [
       "FloatProgress(value=0.0, bar_style='info', description='Progress:', layout=Layout(height='25px', width='50%'),…"
      ]
     },
     "metadata": {},
     "output_type": "display_data"
    }
   ],
   "source": [
    "# Transfer it to be a json file\n",
    "result = emotion_4.map(lambda s:{'text':s[0],'emotion':s[1]})"
   ]
  },
  {
   "cell_type": "code",
   "execution_count": 151,
   "id": "b04463ca-dc69-4311-a7a3-33d7599a7020",
   "metadata": {
    "execution": {
     "iopub.execute_input": "2023-03-01T04:04:01.177150Z",
     "iopub.status.busy": "2023-03-01T04:04:01.176489Z",
     "iopub.status.idle": "2023-03-01T04:04:14.968740Z",
     "shell.execute_reply": "2023-03-01T04:04:14.966443Z",
     "shell.execute_reply.started": "2023-03-01T04:04:01.177110Z"
    },
    "tags": []
   },
   "outputs": [
    {
     "data": {
      "application/vnd.jupyter.widget-view+json": {
       "model_id": "1cbe93edfb6942ebb3399a80e555746d",
       "version_major": 2,
       "version_minor": 0
      },
      "text/plain": [
       "VBox()"
      ]
     },
     "metadata": {},
     "output_type": "display_data"
    },
    {
     "data": {
      "application/vnd.jupyter.widget-view+json": {
       "model_id": "",
       "version_major": 2,
       "version_minor": 0
      },
      "text/plain": [
       "FloatProgress(value=0.0, bar_style='info', description='Progress:', layout=Layout(height='25px', width='50%'),…"
      ]
     },
     "metadata": {},
     "output_type": "display_data"
    }
   ],
   "source": [
    "result.saveAsTextFile(\"s3://ziqiproject/output/\")"
   ]
  },
  {
   "cell_type": "code",
   "execution_count": null,
   "id": "5d2383d9-5c2b-48b0-8d3c-f130cc605575",
   "metadata": {},
   "outputs": [],
   "source": []
  }
 ],
 "metadata": {
  "kernelspec": {
   "display_name": "PySpark",
   "language": "",
   "name": "pysparkkernel"
  },
  "language_info": {
   "codemirror_mode": {
    "name": "python",
    "version": 2
   },
   "mimetype": "text/x-python",
   "name": "pyspark",
   "pygments_lexer": "python2"
  }
 },
 "nbformat": 4,
 "nbformat_minor": 5
}
