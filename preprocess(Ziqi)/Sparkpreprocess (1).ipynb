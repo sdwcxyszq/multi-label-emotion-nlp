{
 "cells": [
  {
   "cell_type": "code",
   "execution_count": 1,
   "id": "bc69b0da-1246-4a15-af94-ccd326c0edee",
   "metadata": {
    "execution": {
     "iopub.execute_input": "2023-03-02T02:55:49.551060Z",
     "iopub.status.busy": "2023-03-02T02:55:49.546091Z",
     "iopub.status.idle": "2023-03-02T02:56:23.897174Z",
     "shell.execute_reply": "2023-03-02T02:56:23.893095Z",
     "shell.execute_reply.started": "2023-03-02T02:55:49.551006Z"
    },
    "tags": []
   },
   "outputs": [
    {
     "data": {
      "application/vnd.jupyter.widget-view+json": {
       "model_id": "78de77c87e2f402f8728aba752c16c36",
       "version_major": 2,
       "version_minor": 0
      },
      "text/plain": [
       "VBox()"
      ]
     },
     "metadata": {},
     "output_type": "display_data"
    },
    {
     "name": "stdout",
     "output_type": "stream",
     "text": [
      "Starting Spark application\n"
     ]
    },
    {
     "data": {
      "text/html": [
       "<table>\n",
       "<tr><th>ID</th><th>YARN Application ID</th><th>Kind</th><th>State</th><th>Spark UI</th><th>Driver log</th><th>Current session?</th></tr><tr><td>0</td><td>application_1677725590761_0001</td><td>pyspark</td><td>idle</td><td><a target=\"_blank\" href=\"http://ip-172-31-88-133.ec2.internal:20888/proxy/application_1677725590761_0001/\">Link</a></td><td><a target=\"_blank\" href=\"http://ip-172-31-83-161.ec2.internal:8042/node/containerlogs/container_1677725590761_0001_01_000001/livy\">Link</a></td><td>✔</td></tr></table>"
      ],
      "text/plain": [
       "<IPython.core.display.HTML object>"
      ]
     },
     "metadata": {},
     "output_type": "display_data"
    },
    {
     "data": {
      "application/vnd.jupyter.widget-view+json": {
       "model_id": "",
       "version_major": 2,
       "version_minor": 0
      },
      "text/plain": [
       "FloatProgress(value=0.0, bar_style='info', description='Progress:', layout=Layout(height='25px', width='50%'),…"
      ]
     },
     "metadata": {},
     "output_type": "display_data"
    },
    {
     "name": "stdout",
     "output_type": "stream",
     "text": [
      "SparkSession available as 'spark'.\n"
     ]
    },
    {
     "data": {
      "application/vnd.jupyter.widget-view+json": {
       "model_id": "",
       "version_major": 2,
       "version_minor": 0
      },
      "text/plain": [
       "FloatProgress(value=0.0, bar_style='info', description='Progress:', layout=Layout(height='25px', width='50%'),…"
      ]
     },
     "metadata": {},
     "output_type": "display_data"
    }
   ],
   "source": [
    "from pyspark import SparkContext"
   ]
  },
  {
   "cell_type": "code",
   "execution_count": 2,
   "id": "126272e5-2258-4996-9c73-e85ced20bda6",
   "metadata": {
    "execution": {
     "iopub.execute_input": "2023-03-02T02:56:23.957715Z",
     "iopub.status.busy": "2023-03-02T02:56:23.956377Z",
     "iopub.status.idle": "2023-03-02T02:56:25.153704Z",
     "shell.execute_reply": "2023-03-02T02:56:25.152231Z",
     "shell.execute_reply.started": "2023-03-02T02:56:23.957667Z"
    },
    "tags": []
   },
   "outputs": [
    {
     "data": {
      "application/vnd.jupyter.widget-view+json": {
       "model_id": "98afefbd2e1a44a0bef7018ea4d1812b",
       "version_major": 2,
       "version_minor": 0
      },
      "text/plain": [
       "VBox()"
      ]
     },
     "metadata": {},
     "output_type": "display_data"
    },
    {
     "data": {
      "application/vnd.jupyter.widget-view+json": {
       "model_id": "",
       "version_major": 2,
       "version_minor": 0
      },
      "text/plain": [
       "FloatProgress(value=0.0, bar_style='info', description='Progress:', layout=Layout(height='25px', width='50%'),…"
      ]
     },
     "metadata": {},
     "output_type": "display_data"
    }
   ],
   "source": [
    "emotions=sc.textFile(\"s3://ziqiproject/input/*.csv\")"
   ]
  },
  {
   "cell_type": "code",
   "execution_count": 3,
   "id": "bc617307-039c-4ab8-bb13-7a045004139d",
   "metadata": {
    "execution": {
     "iopub.execute_input": "2023-03-02T02:56:39.475724Z",
     "iopub.status.busy": "2023-03-02T02:56:39.475304Z",
     "iopub.status.idle": "2023-03-02T02:56:39.732717Z",
     "shell.execute_reply": "2023-03-02T02:56:39.729200Z",
     "shell.execute_reply.started": "2023-03-02T02:56:39.475690Z"
    },
    "tags": []
   },
   "outputs": [
    {
     "data": {
      "application/vnd.jupyter.widget-view+json": {
       "model_id": "347a8df0496147f9ab68b0608cbcf91c",
       "version_major": 2,
       "version_minor": 0
      },
      "text/plain": [
       "VBox()"
      ]
     },
     "metadata": {},
     "output_type": "display_data"
    },
    {
     "data": {
      "application/vnd.jupyter.widget-view+json": {
       "model_id": "",
       "version_major": 2,
       "version_minor": 0
      },
      "text/plain": [
       "FloatProgress(value=0.0, bar_style='info', description='Progress:', layout=Layout(height='25px', width='50%'),…"
      ]
     },
     "metadata": {},
     "output_type": "display_data"
    }
   ],
   "source": [
    "def solve_comma(s):\n",
    "    \"\"\"We have two situation, if there is \" in the beginning, we need to find the last \" to make sure that is the text, otherwise just use comma to split\"\"\"\n",
    "    if s[0]=='\"':\n",
    "        return (s[:s.rindex('\"')],s[(s.rindex('\"')+2):].split(','))\n",
    "    words = s.split(',')\n",
    "    return (words[0],words[1:])\n",
    "emotion_1 = emotions.map(lambda s:solve_comma(s))"
   ]
  },
  {
   "cell_type": "code",
   "execution_count": 4,
   "id": "bf6be333-adb3-4887-b7c9-a621015e0ff7",
   "metadata": {
    "execution": {
     "iopub.execute_input": "2023-03-02T02:56:43.585256Z",
     "iopub.status.busy": "2023-03-02T02:56:43.584656Z",
     "iopub.status.idle": "2023-03-02T02:56:43.884349Z",
     "shell.execute_reply": "2023-03-02T02:56:43.882878Z",
     "shell.execute_reply.started": "2023-03-02T02:56:43.585214Z"
    },
    "tags": []
   },
   "outputs": [
    {
     "data": {
      "application/vnd.jupyter.widget-view+json": {
       "model_id": "7bd608f81dac468fbb37c443727d7e3e",
       "version_major": 2,
       "version_minor": 0
      },
      "text/plain": [
       "VBox()"
      ]
     },
     "metadata": {},
     "output_type": "display_data"
    },
    {
     "data": {
      "application/vnd.jupyter.widget-view+json": {
       "model_id": "",
       "version_major": 2,
       "version_minor": 0
      },
      "text/plain": [
       "FloatProgress(value=0.0, bar_style='info', description='Progress:', layout=Layout(height='25px', width='50%'),…"
      ]
     },
     "metadata": {},
     "output_type": "display_data"
    }
   ],
   "source": [
    "#Eliminate the header and non-clear emotion example with no emotion\n",
    "emotion_2 = emotion_1.filter(lambda s:s[0]!='text' and s[1][7]=='False')"
   ]
  },
  {
   "cell_type": "code",
   "execution_count": 5,
   "id": "dbda909f-7de6-49d4-8c10-2be1c4997ce4",
   "metadata": {
    "execution": {
     "iopub.execute_input": "2023-03-02T02:56:45.203810Z",
     "iopub.status.busy": "2023-03-02T02:56:45.203377Z",
     "iopub.status.idle": "2023-03-02T02:56:45.470744Z",
     "shell.execute_reply": "2023-03-02T02:56:45.469638Z",
     "shell.execute_reply.started": "2023-03-02T02:56:45.203773Z"
    },
    "tags": []
   },
   "outputs": [
    {
     "data": {
      "application/vnd.jupyter.widget-view+json": {
       "model_id": "7fdd0ef612b84066b035cd5ae8c59842",
       "version_major": 2,
       "version_minor": 0
      },
      "text/plain": [
       "VBox()"
      ]
     },
     "metadata": {},
     "output_type": "display_data"
    },
    {
     "data": {
      "application/vnd.jupyter.widget-view+json": {
       "model_id": "",
       "version_major": 2,
       "version_minor": 0
      },
      "text/plain": [
       "FloatProgress(value=0.0, bar_style='info', description='Progress:', layout=Layout(height='25px', width='50%'),…"
      ]
     },
     "metadata": {},
     "output_type": "display_data"
    }
   ],
   "source": [
    "#Eliminate useless columns, maintain text and corresponding emotion list\n",
    "emotion_3 = emotion_2.map(lambda s:(s[0],s[1][8:]))"
   ]
  },
  {
   "cell_type": "code",
   "execution_count": 6,
   "id": "8fedd69e-ebe7-4e51-9da2-81614f4d72d1",
   "metadata": {
    "execution": {
     "iopub.execute_input": "2023-03-02T02:56:46.840003Z",
     "iopub.status.busy": "2023-03-02T02:56:46.839332Z",
     "iopub.status.idle": "2023-03-02T02:56:54.535126Z",
     "shell.execute_reply": "2023-03-02T02:56:54.533001Z",
     "shell.execute_reply.started": "2023-03-02T02:56:46.839958Z"
    },
    "tags": []
   },
   "outputs": [
    {
     "data": {
      "application/vnd.jupyter.widget-view+json": {
       "model_id": "8f627514a06d4656bba999d0c72e4aff",
       "version_major": 2,
       "version_minor": 0
      },
      "text/plain": [
       "VBox()"
      ]
     },
     "metadata": {},
     "output_type": "display_data"
    },
    {
     "data": {
      "application/vnd.jupyter.widget-view+json": {
       "model_id": "",
       "version_major": 2,
       "version_minor": 0
      },
      "text/plain": [
       "FloatProgress(value=0.0, bar_style='info', description='Progress:', layout=Layout(height='25px', width='50%'),…"
      ]
     },
     "metadata": {},
     "output_type": "display_data"
    },
    {
     "name": "stdout",
     "output_type": "stream",
     "text": [
      "['admiration', 'amusement', 'anger', 'annoyance', 'approval', 'caring', 'confusion', 'curiosity', 'desire', 'disappointment', 'disapproval', 'disgust', 'embarrassment', 'excitement', 'fear', 'gratitude', 'grief', 'joy', 'love', 'nervousness', 'optimism', 'pride', 'realization', 'relief', 'remorse', 'sadness', 'surprise', 'neutral']"
     ]
    }
   ],
   "source": [
    "#Get the emotion list\n",
    "emotion_list = emotion_1.take(1)[0][1][8:]\n",
    "emotion_list"
   ]
  },
  {
   "cell_type": "code",
   "execution_count": 7,
   "id": "5f358d80-e718-46e1-aac8-32b7db3e2d14",
   "metadata": {
    "execution": {
     "iopub.execute_input": "2023-03-02T02:56:56.632830Z",
     "iopub.status.busy": "2023-03-02T02:56:56.630030Z",
     "iopub.status.idle": "2023-03-02T02:56:56.908507Z",
     "shell.execute_reply": "2023-03-02T02:56:56.906198Z",
     "shell.execute_reply.started": "2023-03-02T02:56:56.632769Z"
    },
    "tags": []
   },
   "outputs": [
    {
     "data": {
      "application/vnd.jupyter.widget-view+json": {
       "model_id": "91785da164b147fea1521f95b9b555dc",
       "version_major": 2,
       "version_minor": 0
      },
      "text/plain": [
       "VBox()"
      ]
     },
     "metadata": {},
     "output_type": "display_data"
    },
    {
     "data": {
      "application/vnd.jupyter.widget-view+json": {
       "model_id": "",
       "version_major": 2,
       "version_minor": 0
      },
      "text/plain": [
       "FloatProgress(value=0.0, bar_style='info', description='Progress:', layout=Layout(height='25px', width='50%'),…"
      ]
     },
     "metadata": {},
     "output_type": "display_data"
    }
   ],
   "source": [
    "def emotion_text(s):\n",
    "    \"\"\"Check which column has value of 1 and write the emotion name on the corresponding emotion list\"\"\"\n",
    "    string = ''\n",
    "    for i in range(len(s[1])):\n",
    "        if s[1][i]=='1':\n",
    "            string+=emotion_list[i]+','\n",
    "    if len(string)>0:\n",
    "        string = string[:len(string)-1]\n",
    "    return (s[0],string)\n",
    "emotion_4 = emotion_3.map(lambda s:emotion_text(s))"
   ]
  },
  {
   "cell_type": "code",
   "execution_count": 8,
   "id": "77a3d103-98ce-4fa9-8514-2cd6f61f7560",
   "metadata": {
    "execution": {
     "iopub.execute_input": "2023-03-02T02:57:20.146526Z",
     "iopub.status.busy": "2023-03-02T02:57:20.145716Z",
     "iopub.status.idle": "2023-03-02T02:57:20.482544Z",
     "shell.execute_reply": "2023-03-02T02:57:20.480970Z",
     "shell.execute_reply.started": "2023-03-02T02:57:20.146012Z"
    },
    "tags": []
   },
   "outputs": [
    {
     "data": {
      "application/vnd.jupyter.widget-view+json": {
       "model_id": "4b4b11a81dd247ab98ce8b56aa392368",
       "version_major": 2,
       "version_minor": 0
      },
      "text/plain": [
       "VBox()"
      ]
     },
     "metadata": {},
     "output_type": "display_data"
    },
    {
     "data": {
      "application/vnd.jupyter.widget-view+json": {
       "model_id": "",
       "version_major": 2,
       "version_minor": 0
      },
      "text/plain": [
       "FloatProgress(value=0.0, bar_style='info', description='Progress:', layout=Layout(height='25px', width='50%'),…"
      ]
     },
     "metadata": {},
     "output_type": "display_data"
    }
   ],
   "source": [
    "# Transfer it to be a json file\n",
    "result = emotion_4.map(lambda s:s[0]+'\\t'+s[1])"
   ]
  },
  {
   "cell_type": "code",
   "execution_count": 9,
   "id": "b04463ca-dc69-4311-a7a3-33d7599a7020",
   "metadata": {
    "execution": {
     "iopub.execute_input": "2023-03-02T02:57:22.743186Z",
     "iopub.status.busy": "2023-03-02T02:57:22.742719Z",
     "iopub.status.idle": "2023-03-02T02:57:26.588148Z",
     "shell.execute_reply": "2023-03-02T02:57:26.587092Z",
     "shell.execute_reply.started": "2023-03-02T02:57:22.743152Z"
    },
    "tags": []
   },
   "outputs": [
    {
     "data": {
      "application/vnd.jupyter.widget-view+json": {
       "model_id": "fc54ddb7aa474650be643f843f85f445",
       "version_major": 2,
       "version_minor": 0
      },
      "text/plain": [
       "VBox()"
      ]
     },
     "metadata": {},
     "output_type": "display_data"
    },
    {
     "data": {
      "application/vnd.jupyter.widget-view+json": {
       "model_id": "",
       "version_major": 2,
       "version_minor": 0
      },
      "text/plain": [
       "FloatProgress(value=0.0, bar_style='info', description='Progress:', layout=Layout(height='25px', width='50%'),…"
      ]
     },
     "metadata": {},
     "output_type": "display_data"
    }
   ],
   "source": [
    "result.saveAsTextFile(\"s3://ziqiproject/output/\")"
   ]
  },
  {
   "cell_type": "code",
   "execution_count": null,
   "id": "5d2383d9-5c2b-48b0-8d3c-f130cc605575",
   "metadata": {},
   "outputs": [],
   "source": []
  }
 ],
 "metadata": {
  "kernelspec": {
   "display_name": "PySpark",
   "language": "",
   "name": "pysparkkernel"
  },
  "language_info": {
   "codemirror_mode": {
    "name": "python",
    "version": 2
   },
   "mimetype": "text/x-python",
   "name": "pyspark",
   "pygments_lexer": "python2"
  }
 },
 "nbformat": 4,
 "nbformat_minor": 5
}
